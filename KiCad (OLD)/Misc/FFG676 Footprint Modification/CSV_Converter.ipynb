{
 "cells": [
  {
   "cell_type": "code",
   "execution_count": 21,
   "metadata": {},
   "outputs": [
    {
     "name": "stdout",
     "output_type": "stream",
     "text": [
      "Wrote 676 lines\n"
     ]
    }
   ],
   "source": [
    "# CSV rows to TXT rows program by Jordan Harris-Toovy\n",
    "import pandas as pd\n",
    " \n",
    "dfile = pd.read_csv(\"Xilinx_FFG676_MOD_Corrected.csv\", header=None)\n",
    "rfile = open(\"Result.txt\",'w')\n",
    "\n",
    "dflength = dfile.shape[0]\n",
    "dfwidth = dfile.shape[1]\n",
    "nWrites = 0\n",
    "\n",
    "currentLine = \"ERROR\"\n",
    "\n",
    "for index in range(0, dflength):\n",
    "\n",
    "    currentLine = \"\"\n",
    "\n",
    "    for indey in range(0, dfwidth):\n",
    "\n",
    "        currentLine += str(dfile.iloc[index,indey])\n",
    "    \n",
    "    rfile.write(currentLine + \"\\n\")\n",
    "    nWrites += 1\n",
    "\n",
    "rfile.close()\n",
    "print(\"Wrote\",nWrites,\"lines\")"
   ]
  }
 ],
 "metadata": {
  "kernelspec": {
   "display_name": "Python 3",
   "language": "python",
   "name": "python3"
  },
  "language_info": {
   "codemirror_mode": {
    "name": "ipython",
    "version": 3
   },
   "file_extension": ".py",
   "mimetype": "text/x-python",
   "name": "python",
   "nbconvert_exporter": "python",
   "pygments_lexer": "ipython3",
   "version": "3.12.1"
  }
 },
 "nbformat": 4,
 "nbformat_minor": 2
}
